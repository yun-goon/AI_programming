{
 "cells": [
  {
   "cell_type": "code",
   "execution_count": 2,
   "metadata": {},
   "outputs": [
    {
     "name": "stdout",
     "output_type": "stream",
     "text": [
      "<class 'list'>\n",
      "['bokyung moon', 'changgi hong', 'eunsung choi', 'heamin park', 'hyunsoo kim', 'jihwan oh', 'sungjoo moon']\n"
     ]
    }
   ],
   "source": [
    "twins = {'bokyung moon': 0.325, 'sungjoo moon': 0.311, 'eunsung choi': 0.311, 'heamin park': 0.294, 'changgi hong': 0.291, 'hyunsoo kim': 0.276, 'jihwan oh': 0.265}\n",
    "\n",
    "abc = sorted(twins) # 키를 정렬하여 리스트로 \n",
    "print(type(abc))\n",
    "print(abc)\n",
    "\n",
    "twins = {'bokyung moon': 0.325, 'sungjoo moon': 0.311, 'eunsung choi': 0.311, 'heamin park': 0.294, 'changgi hong': 0.291, 'hyunsoo kim': 0.276, 'jihwan oh': 0.265}\n",
    "print(twins.get('changgi hong'))\n",
    "print(twins.get('yonghoon choi'))"
   ]
  },
  {
   "cell_type": "code",
   "execution_count": null,
   "metadata": {},
   "outputs": [],
   "source": []
  }
 ],
 "metadata": {
  "kernelspec": {
   "display_name": "Python 3.10.6 ('ai')",
   "language": "python",
   "name": "python3"
  },
  "language_info": {
   "codemirror_mode": {
    "name": "ipython",
    "version": 3
   },
   "file_extension": ".py",
   "mimetype": "text/x-python",
   "name": "python",
   "nbconvert_exporter": "python",
   "pygments_lexer": "ipython3",
   "version": "3.10.6"
  },
  "orig_nbformat": 4,
  "vscode": {
   "interpreter": {
    "hash": "eed2dc40640608177fd0c099f19606ab30f38ce23d0e4811f54f716742c7393f"
   }
  }
 },
 "nbformat": 4,
 "nbformat_minor": 2
}
