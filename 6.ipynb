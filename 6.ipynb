{
 "cells": [
  {
   "cell_type": "code",
   "execution_count": null,
   "metadata": {},
   "outputs": [],
   "source": [
    "#람다 함수\n",
    "#lambda 매개변수1, 매개변수2 : 매개변수를 이용한 표현식\n",
    "add = lambda a,b : a+b\n",
    "print(add(3,4))"
   ]
  }
 ],
 "metadata": {
  "language_info": {
   "name": "python"
  },
  "orig_nbformat": 4
 },
 "nbformat": 4,
 "nbformat_minor": 2
}
