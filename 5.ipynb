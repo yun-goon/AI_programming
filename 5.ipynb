{
 "cells": [
  {
   "cell_type": "code",
   "execution_count": null,
   "metadata": {},
   "outputs": [],
   "source": [
    "print('Do you like {} and {}?'.format('Python', 'Java'))\n"
   ]
  },
  {
   "cell_type": "code",
   "execution_count": null,
   "metadata": {},
   "outputs": [],
   "source": [
    "first_name = 'Cary'\n",
    "given_name = 'Grant'\n",
    "occupation = 'actor'\n",
    "age = 127\n",
    "height = 185.5\n",
    "print(\"{} {} is an {}, {} years old and is {} cm tall.\".format(first_name, given_name, occupation, age, height))\n",
    "\n",
    "#인자값 지정가능\n",
    "print('Do you like {0} and {1}?'.format('Python', 'Java'))\n",
    "print('Do you like {1} and {0}?'.format('Python', 'Java'))\n",
    "print('Do you like {0}, {0}, {0}?'.format('Python', 'Java'))\n",
    "\n",
    "#float 자료형 포매팅\n",
    "import math\n",
    "print('pi is {0:5.2f} or {0:5.10f}. Euler number is {1:1.2f} or {1:1.10f}'.format(math.pi, math.e))\n",
    "\n",
    "# int 형 \n",
    "for i in range(2, 11, 2):\n",
    "    print('{0:3d} {1:4d} {2:5d}'.format(i, i*i, i*i*i))\n",
    "\n"
   ]
  },
  {
   "cell_type": "code",
   "execution_count": null,
   "metadata": {},
   "outputs": [],
   "source": [
    "a =20\n",
    "string = 'carry'\n",
    "print('{0:^{a}}'.format('Cary')) #안됨\n",
    "# print(f'{string:>{a}}') # 됨"
   ]
  }
 ],
 "metadata": {
  "kernelspec": {
   "display_name": "Python 3.10.6 ('ai')",
   "language": "python",
   "name": "python3"
  },
  "language_info": {
   "codemirror_mode": {
    "name": "ipython",
    "version": 3
   },
   "file_extension": ".py",
   "mimetype": "text/x-python",
   "name": "python",
   "nbconvert_exporter": "python",
   "pygments_lexer": "ipython3",
   "version": "3.10.6"
  },
  "orig_nbformat": 4,
  "vscode": {
   "interpreter": {
    "hash": "eed2dc40640608177fd0c099f19606ab30f38ce23d0e4811f54f716742c7393f"
   }
  }
 },
 "nbformat": 4,
 "nbformat_minor": 2
}
