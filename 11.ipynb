{
 "cells": [
  {
   "cell_type": "code",
   "execution_count": null,
   "metadata": {},
   "outputs": [],
   "source": [
    "import matplotlib.pyplot as plt\n",
    "\n",
    "years = [1950, 1960, 1970, 1980, 1990, 2000, 2010, 2020]\n",
    "gdp = [67.0, 80.0, 257.0, 1686.0, 6505, 11865.3, 22105.3, 35004]\n",
    "plt.plot(years, gdp, color = 'green', marker = 'o', linestyle = 'solid') # 그래프 설정, 값, 값, 특성\n",
    "plt.title(\"GDP per capita\") # 타이틀\n",
    "plt.xlabel(\"years\") # x축\n",
    "plt.ylabel(\"dollars\") #y축\n",
    "plt.savefig(\"gdp_per_capita.png\", dpi = 600) #파일 저장\n",
    "plt.show() #보여주기\n"
   ]
  },
  {
   "cell_type": "code",
   "execution_count": null,
   "metadata": {},
   "outputs": [],
   "source": [
    "import numpy as np\n",
    "import matplotlib.pyplot as plt\n",
    "x_num = 100\n",
    "x = [i for i in range(0, x_num)]\n",
    "y = [np.random.exponential(10) for k in range(0, x_num)]\n",
    "plt.title(\"Random number drawing\")\n",
    "plt.plot(x, y, color = \"green\")\n",
    "plt.xlabel(\"x\")\n",
    "plt.ylabel(\"Random number\")\n",
    "plt.show()\n"
   ]
  },
  {
   "cell_type": "code",
   "execution_count": null,
   "metadata": {},
   "outputs": [],
   "source": [
    "import matplotlib.pyplot as plt\n",
    "x = [x for x in range(-20, 20)]\n",
    "y1 = [2 * i for i in x]\n",
    "y2 = [i**2 - 4 * i + 3 for i in x]\n",
    "y3 = [-i**2 - 4 * i - 3 for i in x]\n",
    "plt.title(\"Three graphs together\")\n",
    "plt.plot(x, y1, 'r--', x, y2, 'go-', x, y3, 'b*:') # r : 빨간색, -- 긴 점선, g 녹색 , ^ : 삼각형 , -실선 , *별표, : 잛은점선\n",
    "plt.axis([-30, 30, -40, 40])\n",
    "plt.legend() # 라벨 나오게\n",
    "plt.show()\n"
   ]
  },
  {
   "cell_type": "code",
   "execution_count": null,
   "metadata": {},
   "outputs": [],
   "source": [
    "import matplotlib.pyplot as plt\n",
    "import math\n",
    "x = [] # 리스트, 넘파이 가능\n",
    "y = []\n",
    "z = []\n",
    "for i in range(360):\n",
    "    x.append(i)\n",
    "    y.append(math.sin(math.radians(i))) # radian으로 변환\n",
    "    z.append(math.cos(math.radians(i))) \n",
    "plt.title(\"sinusoidal wave\")\n",
    "plt.plot(x, y, color = 'green', label = 'sine')\n",
    "plt.plot(x, z, color = 'red', label = 'cosine')\n",
    "plt.legend()\n",
    "plt.xlabel(\"Radian\")\n",
    "plt.show()\n"
   ]
  },
  {
   "cell_type": "code",
   "execution_count": null,
   "metadata": {},
   "outputs": [],
   "source": [
    "import matplotlib.pyplot as plt\n",
    "years = [1950, 1960, 1970, 1980, 1990, 2000, 2010, 2020]\n",
    "gdp = [67.0, 80.0, 257.0, 1686.0, 6505, 11865.3, 22105.3, 35004]\n",
    "plt.title(\"Bar exercise\")\n",
    "plt.bar(range(len(years)), gdp, label = 'gdp per capita') # 막대의 갯수(x축), y축, label : 범례 \n",
    "plt.legend()\n",
    "plt.xlabel(\"Year\")\n",
    "plt.ylabel(\"USD\")\n",
    "plt.xticks(range(len(years),),years) # x축에 값 부여, 빈칸이면 일련번호 (갯수[list], 들어갈 내용)\n",
    "plt.show()\n"
   ]
  },
  {
   "cell_type": "code",
   "execution_count": null,
   "metadata": {},
   "outputs": [],
   "source": [
    "import matplotlib.pyplot as plt\n",
    "import numpy as np\n",
    "years = [1950, 1960, 1970, 1980, 1990, 2000, 2010, 2020]\n",
    "ko = [67.0, 80.0, 257.0, 1686.0, 6505, 11865.3, 22105.3, 35004]\n",
    "jp = [890, 5120, 11500, 42130, 40560, 38780, 41002, 43210]\n",
    "ch = [100, 200, 290, 540, 1760, 7940, 9100, 13200]\n",
    "x_range = np.arange(len(years))\n",
    "plt.title(\"Bar exercise\")\n",
    "# 안보이니깐 축을 이동시켜줘야함\n",
    "plt.bar(x_range - 0.3, ko, label = 'Korea', width = 0.25) \n",
    "plt.bar(x_range + 0.0, jp, label = 'Japan', width = 0.25)\n",
    "plt.bar(x_range + 0.3, ch, label = 'China', width = 0.25)\n",
    "#plt.bar(x_range, ko, label = 'Korea', width = 0.25)\n",
    "#plt.bar(x_range, jp, label = 'Japan', width = 0.25)\n",
    "#plt.bar(x_range, ch, label = 'China', width = 0.25)\n",
    "plt.legend()\n",
    "plt.xlabel(\"Year\")\n",
    "plt.ylabel(\"USD\")\n",
    "plt.xticks(x_range, years)\n",
    "plt.show()\n"
   ]
  },
  {
   "cell_type": "code",
   "execution_count": null,
   "metadata": {},
   "outputs": [],
   "source": [
    "import matplotlib.pyplot as plt\n",
    "import numpy as np\n",
    "x = np.arange(0, 30)\n",
    "y = x + np.random.randn(30)\n",
    "plt.title('Scatter plot exercise')\n",
    "plt.scatter(x, y) #plt.plot(x, y) 산포도 그래프 scatter\n",
    "plt.xlabel(\"time\")\n",
    "plt.ylabel(\"random\")\n",
    "plt.show()\n"
   ]
  },
  {
   "cell_type": "code",
   "execution_count": null,
   "metadata": {},
   "outputs": [],
   "source": [
    "import matplotlib.pyplot as plt\n",
    "import numpy as np\n",
    "x = np.random.randn(1000) # randn 정규분포 난수\n",
    "y = np.random.randn(1000)\n",
    "plt.title('Scatter plot exercise')\n",
    "plt.scatter(x, y)\n",
    "plt.axis([-5, 5, -5, 5])\n",
    "a = 1\n",
    "plt.savefig('scatter{}.png'.format(a))\n",
    "plt.show()\n"
   ]
  },
  {
   "cell_type": "code",
   "execution_count": null,
   "metadata": {},
   "outputs": [],
   "source": [
    "\n",
    "#파이차트\n",
    "values = [8, 14, 2]\n",
    "names = ['Choi', 'Lee', 'Kim']\n",
    "plt.pie(values, labels = names, autopct = '%.2f') #비중을 백분율로 표시할때 autopct 키워드 매개변수 사용\n",
    "plt.show()\n"
   ]
  },
  {
   "cell_type": "code",
   "execution_count": null,
   "metadata": {},
   "outputs": [],
   "source": [
    "import matplotlib.pyplot as plt\n",
    "\n",
    "#히스토그램\n",
    "\n",
    "lgtwins = [8, 9, 2, 2, 3, 4, 7, 2, 4, 3, 7, 1, 3, 3, 5, 10, 2, 2, 1]\n",
    "plt.hist(lgtwins, bins = 10, color = 'red')\n",
    "plt.title('LG Twins standings')\n",
    "plt.xlabel('Years')\n",
    "plt.ylabel('Standings')\n",
    "plt.show()\n"
   ]
  },
  {
   "cell_type": "code",
   "execution_count": null,
   "metadata": {},
   "outputs": [],
   "source": [
    "import matplotlib.pyplot as plt\n",
    "import numpy as np\n",
    "n_bins = 200\n",
    "gauss1 = np.random.randn(10000)\n",
    "gauss2 = np.random.randn(10000) + 3 #평균을 옮김\n",
    "plt.title('Two Normal distribution')\n",
    "plt.hist(gauss1, n_bins, color = 'blue', alpha = 0.5) #alpha 투명도, 1이 기본\n",
    "plt.hist(gauss2, n_bins, color = 'red', alpha = 0.5)\n",
    "plt.show()\n"
   ]
  },
  {
   "cell_type": "code",
   "execution_count": null,
   "metadata": {},
   "outputs": [],
   "source": [
    "'''\n",
    "박스 플롯 box plot\n",
    "수염길이는 몸통의 1.5배 위 아래로\n",
    "중앙값,\n",
    "이상치 outlier = 특이값, 상자 길이의 1.5배를 초과하는 데이터들\n",
    "'''\n",
    "\n",
    "import numpy as np\n",
    "import matplotlib.pyplot as plt\n",
    "data = np.random.randn(1000)\n",
    "plt.boxplot(data)\n",
    "plt.title(\"box plot exercise\")\n",
    "plt.xlabel(\"none\")\n",
    "plt.ylabel(\"range\")\n",
    "plt.show()\n",
    "\n",
    "\n",
    "\n",
    "import numpy as np\n",
    "import matplotlib.pyplot as plt\n",
    "data1 = np.random.randn(1000)\n",
    "data2 = 1.5 * np.random.randn(1000)\n",
    "\n",
    "plt.boxplot([data1, data2,data]) #여러개\n",
    "plt.show()\n",
    "\n"
   ]
  },
  {
   "cell_type": "code",
   "execution_count": null,
   "metadata": {},
   "outputs": [],
   "source": [
    "#한 화면에 여러 그래프 그리기\n",
    "#방법1\n",
    "import numpy as np\n",
    "import matplotlib.pyplot as plt\n",
    "fig, sp = plt.subplots(2, 2, figsize = (5, 5))\n",
    "sp[0, 0].plot([1, 2, 3, 4, 5], 'r')\n",
    "sp[1, 0].plot([2, 3, 2, 3, 1], 'b')\n",
    "sp[0, 1].plot([5, 5, 5, 2, 1], 'g')\n",
    "sp[1, 1].plot([5, 4, 3, 2, 1], 'y')\n",
    "plt.show()\n",
    "\n",
    "\n",
    "#방법2\n",
    "import numpy as np\n",
    "import matplotlib.pyplot as plt\n",
    "fig = plt.figure()\n",
    "sp1 = fig.add_subplot(2, 2, 1)\n",
    "sp2 = fig.add_subplot(2, 2, 2)\n",
    "sp3 = fig.add_subplot(2, 2, 3)\n",
    "sp4 = fig.add_subplot(2, 2, 4)\n",
    "sp1.plot([1, 2, 3, 4, 5], 'r')\n",
    "sp2.plot([2, 3, 2, 3, 1], 'b')\n",
    "sp3.plot([5, 5, 5, 2, 1], 'g')\n",
    "sp4.plot([5, 4, 3, 2, 1], 'y')\n",
    "plt.show()\n",
    "\n"
   ]
  },
  {
   "cell_type": "code",
   "execution_count": null,
   "metadata": {},
   "outputs": [],
   "source": [
    "import numpy as np\n",
    "import matplotlib.pyplot as plt\n",
    "data = np.random.randn(2, 100)\n",
    "fig = plt.figure()\n",
    "\n",
    "sp1 = fig.add_subplot(2, 2, 1)\n",
    "sp2 = fig.add_subplot(2, 2, 2)\n",
    "sp3 = fig.add_subplot(2, 2, 3)\n",
    "sp4 = fig.add_subplot(2, 2, 4)\n",
    "\n",
    "sp1.hist(data[0]) #히스토그램\n",
    "sp2.scatter(data[0], data[1]) #산포도 그래프\n",
    "sp3.plot(data[0], data[1]) #막대그래프\n",
    "sp4.hist2d(data[0], data[1]) #2d 히스토그램\n",
    "\n",
    "plt.show()\n"
   ]
  }
 ],
 "metadata": {
  "kernelspec": {
   "display_name": "Python 3.10.6 ('ai')",
   "language": "python",
   "name": "python3"
  },
  "language_info": {
   "codemirror_mode": {
    "name": "ipython",
    "version": 3
   },
   "file_extension": ".py",
   "mimetype": "text/x-python",
   "name": "python",
   "nbconvert_exporter": "python",
   "pygments_lexer": "ipython3",
   "version": "3.10.6"
  },
  "orig_nbformat": 4,
  "vscode": {
   "interpreter": {
    "hash": "eed2dc40640608177fd0c099f19606ab30f38ce23d0e4811f54f716742c7393f"
   }
  }
 },
 "nbformat": 4,
 "nbformat_minor": 2
}
