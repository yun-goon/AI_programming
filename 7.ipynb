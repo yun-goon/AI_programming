{
 "cells": [
  {
   "cell_type": "code",
   "execution_count": 1,
   "metadata": {},
   "outputs": [
    {
     "name": "stdout",
     "output_type": "stream",
     "text": [
      "[100, 200, 300, 400, 500]\n",
      "[100, 200, 400, 500]\n"
     ]
    }
   ],
   "source": [
    "a = [100, 200, 300, 400, 500]\n",
    "print(a)\n",
    "a.remove(300)\n",
    "print(a)\n",
    "\n",
    "#37을 다 삭제\n",
    "b = [10, 20, 37, 20, 37, 30, 40, 37, 10, 37, 40]\n",
    "for i in b:\n",
    "    if 37 in b: \n",
    "        b.remove(37) \n",
    "print(b)"
   ]
  },
  {
   "cell_type": "code",
   "execution_count": 3,
   "metadata": {},
   "outputs": [
    {
     "name": "stdout",
     "output_type": "stream",
     "text": [
      "5\n"
     ]
    }
   ],
   "source": [
    "#pop : 마지막 요소 꺼내서 반환\n",
    "a = [1, 2, 3, 4, 5]\n",
    "p = a.pop()\n",
    "\n",
    "print(a,pop(2)) #index값 pop\n"
   ]
  }
 ],
 "metadata": {
  "kernelspec": {
   "display_name": "Python 3.10.6 ('ai')",
   "language": "python",
   "name": "python3"
  },
  "language_info": {
   "codemirror_mode": {
    "name": "ipython",
    "version": 3
   },
   "file_extension": ".py",
   "mimetype": "text/x-python",
   "name": "python",
   "nbconvert_exporter": "python",
   "pygments_lexer": "ipython3",
   "version": "3.10.6"
  },
  "orig_nbformat": 4,
  "vscode": {
   "interpreter": {
    "hash": "eed2dc40640608177fd0c099f19606ab30f38ce23d0e4811f54f716742c7393f"
   }
  }
 },
 "nbformat": 4,
 "nbformat_minor": 2
}
