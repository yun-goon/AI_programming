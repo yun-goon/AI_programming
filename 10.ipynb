{
 "cells": [
  {
   "cell_type": "code",
   "execution_count": null,
   "metadata": {},
   "outputs": [],
   "source": [
    "import numpy as np\n",
    "\n",
    "a = np.array(range(1,11)) + np.array(range(10,101,10))\n",
    "\n",
    "print(a)"
   ]
  },
  {
   "cell_type": "code",
   "execution_count": null,
   "metadata": {},
   "outputs": [],
   "source": [
    "import numpy as np\n",
    "\n",
    "mid_score = np.array([10,20,30])\n",
    "final_score = np.array([70,80,90])\n",
    "total = mid_score + final_score\n",
    "\n",
    "print(total)"
   ]
  },
  {
   "cell_type": "code",
   "execution_count": null,
   "metadata": {},
   "outputs": [],
   "source": [
    "import numpy as np\n",
    "# 다차원 배열 ndarry\n",
    "\n",
    "a = np.array([10,20,30,40,50])\n",
    "print(a.shape) #배열의 형태\n",
    "print(a.ndim) # 차원\n",
    "print(a.dtype) #자료형\n",
    "print(a.itemsize) # 메모리크기\n",
    "print(a.size) #배열의 항목 수\n"
   ]
  },
  {
   "cell_type": "code",
   "execution_count": null,
   "metadata": {},
   "outputs": [],
   "source": [
    "import numpy as np\n",
    "\n",
    "array_a = np.array([0,1,2,3,4,5,6,7,8,9])\n",
    "array_b = np.array(range(0,10))\n",
    "array_c = np.array(range(0,10,2))\n",
    "\n",
    "print(array_c.shape)"
   ]
  },
  {
   "cell_type": "code",
   "execution_count": null,
   "metadata": {},
   "outputs": [],
   "source": [
    "import numpy as np\n",
    "\n",
    "weights = np.array([183,176,169,186,177,173])\n",
    "weights = weights/100\n",
    "\n",
    "\n",
    "heights = np.array([86,74,59,95,80,68])\n",
    "\n",
    "BMI = heights/weights**2\n",
    "print(BMI)"
   ]
  },
  {
   "cell_type": "code",
   "execution_count": null,
   "metadata": {},
   "outputs": [],
   "source": [
    "import numpy as np\n",
    "\n",
    "array_a = np.array([0,1,2,3,4,5,6,7,8,9])\n",
    "print(type(array_a))"
   ]
  },
  {
   "cell_type": "code",
   "execution_count": null,
   "metadata": {},
   "outputs": [],
   "source": [
    "import numpy as np\n",
    "b = [[1, 2, 3], [4, 5, 6], [7, 8, 9]]\n",
    "c = np.array(b)\n",
    "print(c)\n",
    "\n",
    "\n",
    "print(type(b),type(c)) #형식이 다름, b는 list c는 넘파이어레이\n",
    "\n"
   ]
  },
  {
   "cell_type": "code",
   "execution_count": null,
   "metadata": {},
   "outputs": [],
   "source": [
    "import numpy as np\n",
    "\n",
    "a = np.array([[1, 2, 3, 4], [5, 6, 7, 8], [9, 10, 11, 12], [13, 14, 15, 16]])\n",
    "\n",
    "print(a[0])\n",
    "print(a[0,0])\n",
    "\n"
   ]
  },
  {
   "cell_type": "code",
   "execution_count": null,
   "metadata": {},
   "outputs": [],
   "source": [
    "import numpy as np\n",
    "\n",
    "a = np.array([[1, 2, 3, 4], [5, 6, 7, 8], [9, 10, 11, 12], [13, 14, 15, 16]])\n",
    "\n",
    "a>5\n",
    "b = a[a>5]\n",
    "print(a)\n",
    "print(b)\n",
    "print(a.ndim,b.ndim) #차원이 2차원에서 1차원으로 바뀜"
   ]
  },
  {
   "cell_type": "code",
   "execution_count": null,
   "metadata": {},
   "outputs": [],
   "source": [
    "import numpy as np\n",
    "\n",
    "x = np.array([['a','b','c','d'],['c','c','g','h']])\n",
    "print(x)\n",
    "print(x[x=='c'])"
   ]
  },
  {
   "cell_type": "code",
   "execution_count": null,
   "metadata": {},
   "outputs": [],
   "source": [
    "import numpy as np\n",
    "\n",
    "players = [[170,76.4],[183, 86.2],[181,78.5],[176,80.1]]\n",
    "\n",
    "player = np.array(players)\n",
    "\n",
    "\n",
    "print(player[player[:,1]>80])\n",
    "print(player[player[:,0]>180])"
   ]
  },
  {
   "cell_type": "code",
   "execution_count": null,
   "metadata": {},
   "outputs": [],
   "source": [
    "import numpy as np\n",
    "\n",
    "a = np.arange(12)\n",
    "\n",
    "n1 = np.linspace(0, 10, 50)\n",
    "n2 = np.logspace(0, 5, 30)\n",
    "n3 = a.reshape(3, 4) # 데이터의 갯수는 유지한채로 배열의 차원과 형태 변경\n",
    "n4 = n3.flatten() #2차원 이상의 고차원 배열을 1차원 배열로 만들어 줌\n",
    "\n",
    "\n",
    "np.random.seed(100) #난수의 seed 설정\n",
    "print(np.random.rand(5)) #float 형 난수생성\n",
    "print(np.random.randint(5)) # int 형 난수생성\n",
    "\n",
    "\n",
    "print(n1,n2,n3,n4)\n"
   ]
  },
  {
   "cell_type": "code",
   "execution_count": null,
   "metadata": {},
   "outputs": [],
   "source": []
  }
 ],
 "metadata": {
  "kernelspec": {
   "display_name": "Python 3.10.6 ('ai')",
   "language": "python",
   "name": "python3"
  },
  "language_info": {
   "codemirror_mode": {
    "name": "ipython",
    "version": 3
   },
   "file_extension": ".py",
   "mimetype": "text/x-python",
   "name": "python",
   "nbconvert_exporter": "python",
   "pygments_lexer": "ipython3",
   "version": "3.10.6"
  },
  "orig_nbformat": 4,
  "vscode": {
   "interpreter": {
    "hash": "eed2dc40640608177fd0c099f19606ab30f38ce23d0e4811f54f716742c7393f"
   }
  }
 },
 "nbformat": 4,
 "nbformat_minor": 2
}
