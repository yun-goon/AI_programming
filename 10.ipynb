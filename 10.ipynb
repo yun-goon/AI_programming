{
 "cells": [
  {
   "cell_type": "code",
   "execution_count": null,
   "metadata": {},
   "outputs": [],
   "source": [
    "import numpy as np\n",
    "\n",
    "a = np.array(range(1,11)) + np.array(range(10,101,10))\n",
    "\n",
    "print(a)"
   ]
  },
  {
   "cell_type": "code",
   "execution_count": null,
   "metadata": {},
   "outputs": [],
   "source": [
    "import numpy as np\n",
    "\n",
    "mid_score = np.array([10,20,30])\n",
    "final_score = np.array([70,80,90])\n",
    "total = mid_score + final_score\n",
    "\n",
    "print(total)"
   ]
  },
  {
   "cell_type": "code",
   "execution_count": null,
   "metadata": {},
   "outputs": [],
   "source": [
    "import numpy as np\n",
    "# 다차원 배열 ndarry\n",
    "\n",
    "a = np.array([10,20,30,40,50])\n",
    "print(a.shape) #배열의 형태\n",
    "print(a.ndim) # 차원\n",
    "print(a.dtype) #자료형\n",
    "print(a.itemsize) # 메모리크기\n",
    "print(a.size) #배열의 항목 수\n"
   ]
  },
  {
   "cell_type": "code",
   "execution_count": null,
   "metadata": {},
   "outputs": [],
   "source": [
    "import numpy as np\n",
    "\n",
    "array_a = np.array([0,1,2,3,4,5,6,7,8,9])\n",
    "array_b = np.array(range(0,10))\n",
    "array_c = np.array(range(0,10,2))\n",
    "\n",
    "print(array_c.shape)"
   ]
  },
  {
   "cell_type": "code",
   "execution_count": null,
   "metadata": {},
   "outputs": [],
   "source": [
    "import numpy as np\n",
    "\n",
    "weights = np.array([183,176,169,186,177,173])\n",
    "weights = weights/100\n",
    "\n",
    "\n",
    "heights = np.array([86,74,59,95,80,68])\n",
    "\n",
    "BMI = heights/weights**2\n",
    "print(BMI)"
   ]
  },
  {
   "cell_type": "code",
   "execution_count": null,
   "metadata": {},
   "outputs": [],
   "source": [
    "import numpy as np\n",
    "\n",
    "array_a = np.array([0,1,2,3,4,5,6,7,8,9])\n",
    "print(type(array_a))"
   ]
  },
  {
   "cell_type": "code",
   "execution_count": null,
   "metadata": {},
   "outputs": [],
   "source": [
    "import numpy as np\n",
    "b = [[1, 2, 3], [4, 5, 6], [7, 8, 9]]\n",
    "c = np.array(b)\n",
    "print(c)\n",
    "\n",
    "\n",
    "print(type(b),type(c)) #형식이 다름, b는 list c는 넘파이어레이\n",
    "\n"
   ]
  },
  {
   "cell_type": "code",
   "execution_count": null,
   "metadata": {},
   "outputs": [],
   "source": [
    "import numpy as np\n",
    "\n",
    "a = np.array([[1, 2, 3, 4], [5, 6, 7, 8], [9, 10, 11, 12], [13, 14, 15, 16]])\n",
    "\n",
    "print(a[0])\n",
    "print(a[0,0])\n",
    "\n"
   ]
  },
  {
   "cell_type": "code",
   "execution_count": null,
   "metadata": {},
   "outputs": [],
   "source": [
    "import numpy as np\n",
    "\n",
    "a = np.array([[1, 2, 3, 4], [5, 6, 7, 8], [9, 10, 11, 12], [13, 14, 15, 16]])\n",
    "\n",
    "a>5\n",
    "b = a[a>5]\n",
    "print(a)\n",
    "print(b)\n",
    "print(a.ndim,b.ndim) #차원이 2차원에서 1차원으로 바뀜"
   ]
  },
  {
   "cell_type": "code",
   "execution_count": null,
   "metadata": {},
   "outputs": [],
   "source": [
    "import numpy as np\n",
    "\n",
    "x = np.array([['a','b','c','d'],['c','c','g','h']])\n",
    "print(x)\n",
    "print(x[x=='c'])"
   ]
  },
  {
   "cell_type": "code",
   "execution_count": null,
   "metadata": {},
   "outputs": [],
   "source": [
    "import numpy as np\n",
    "\n",
    "players = [[170,76.4],[183, 86.2],[181,78.5],[176,80.1]]\n",
    "\n",
    "player = np.array(players)\n",
    "\n",
    "\n",
    "print(player[player[:,1]>80])\n",
    "print(player[player[:,0]>180])"
   ]
  },
  {
   "cell_type": "code",
   "execution_count": 1,
   "metadata": {},
   "outputs": [
    {
     "name": "stdout",
     "output_type": "stream",
     "text": [
      "[ 0.          0.20408163  0.40816327  0.6122449   0.81632653  1.02040816\n",
      "  1.2244898   1.42857143  1.63265306  1.83673469  2.04081633  2.24489796\n",
      "  2.44897959  2.65306122  2.85714286  3.06122449  3.26530612  3.46938776\n",
      "  3.67346939  3.87755102  4.08163265  4.28571429  4.48979592  4.69387755\n",
      "  4.89795918  5.10204082  5.30612245  5.51020408  5.71428571  5.91836735\n",
      "  6.12244898  6.32653061  6.53061224  6.73469388  6.93877551  7.14285714\n",
      "  7.34693878  7.55102041  7.75510204  7.95918367  8.16326531  8.36734694\n",
      "  8.57142857  8.7755102   8.97959184  9.18367347  9.3877551   9.59183673\n",
      "  9.79591837 10.        ] [1.00000000e+00 1.48735211e+00 2.21221629e+00 3.29034456e+00\n",
      " 4.89390092e+00 7.27895384e+00 1.08263673e+01 1.61026203e+01\n",
      " 2.39502662e+01 3.56224789e+01 5.29831691e+01 7.88046282e+01\n",
      " 1.17210230e+02 1.74332882e+02 2.59294380e+02 3.85662042e+02\n",
      " 5.73615251e+02 8.53167852e+02 1.26896100e+03 1.88739182e+03\n",
      " 2.80721620e+03 4.17531894e+03 6.21016942e+03 9.23670857e+03\n",
      " 1.37382380e+04 2.04335972e+04 3.03919538e+04 4.52035366e+04\n",
      " 6.72335754e+04 1.00000000e+05] [[ 0  1  2  3]\n",
      " [ 4  5  6  7]\n",
      " [ 8  9 10 11]] [ 0  1  2  3  4  5  6  7  8  9 10 11]\n",
      "[0.54340494 0.27836939 0.42451759 0.84477613 0.00471886]\n",
      "2\n",
      "[-0.53934796 -0.5833315   1.073201   -0.13702713  0.17086301]\n",
      "[ 8.80058504 15.31950115 11.99367254  9.53603875  8.96455575]\n",
      "[[1.         0.96764439]\n",
      " [0.96764439 1.        ]]\n"
     ]
    }
   ],
   "source": [
    "import numpy as np\n",
    "\n",
    "a = np.arange(12)\n",
    "\n",
    "n1 = np.linspace(0, 10, 50)\n",
    "n2 = np.logspace(0, 5, 30)\n",
    "n3 = a.reshape(3, 4) # 데이터의 갯수는 유지한채로 배열의 차원과 형태 변경\n",
    "n4 = n3.flatten() #2차원 이상의 고차원 배열을 1차원 배열로 만들어 줌\n",
    "print(n1,n2,n3,n4)\n",
    "\n",
    "\n",
    "np.random.seed(100) #난수의 seed 설정\n",
    "print(np.random.rand(5)) #float 형 난수생성\n",
    "print(np.random.randint(5)) # int 형 난수생성\n",
    "print(np.random.randn(5)) #정규분포로 난수 생성\n",
    "\n",
    "# 평균 m , 표준편차 signma인 정규분포 생성\n",
    "m = 10\n",
    "sigma = 2\n",
    "random = m + sigma * np.random.randn(5)\n",
    "print(random) \n",
    "\n",
    "# 상관 관계 모르겠음\n",
    "a = [x for x in range(100)]\n",
    "b = [x ** 2 for x in range(100)]\n",
    "cor = np.corrcoef(a, b)\n",
    "print(cor)\n",
    "\n"
   ]
  },
  {
   "cell_type": "code",
   "execution_count": null,
   "metadata": {},
   "outputs": [],
   "source": []
  }
 ],
 "metadata": {
  "kernelspec": {
   "display_name": "Python 3.10.6 ('ai')",
   "language": "python",
   "name": "python3"
  },
  "language_info": {
   "codemirror_mode": {
    "name": "ipython",
    "version": 3
   },
   "file_extension": ".py",
   "mimetype": "text/x-python",
   "name": "python",
   "nbconvert_exporter": "python",
   "pygments_lexer": "ipython3",
   "version": "3.10.6"
  },
  "orig_nbformat": 4,
  "vscode": {
   "interpreter": {
    "hash": "eed2dc40640608177fd0c099f19606ab30f38ce23d0e4811f54f716742c7393f"
   }
  }
 },
 "nbformat": 4,
 "nbformat_minor": 2
}
