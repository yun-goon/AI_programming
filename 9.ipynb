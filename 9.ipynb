{
 "cells": [
  {
   "cell_type": "code",
   "execution_count": 4,
   "metadata": {},
   "outputs": [
    {
     "name": "stdout",
     "output_type": "stream",
     "text": [
      "<built-in method count of str object at 0x00000249B0CD6A10>\n"
     ]
    }
   ],
   "source": [
    "import string\n",
    "\n",
    "s = string.ascii_uppercase\n",
    "\n",
    "string = input(\"input string\")\n",
    "print(s.count)\n",
    "\n"
   ]
  },
  {
   "cell_type": "code",
   "execution_count": 5,
   "metadata": {},
   "outputs": [
    {
     "name": "stdout",
     "output_type": "stream",
     "text": [
      "lipps"
     ]
    }
   ],
   "source": [
    "# 카이사르의 암호\n",
    "pw_str = input('암호화 하고 싶은 거: ')\n",
    "pw_num = 4\n",
    "for i in pw_str:\n",
    "    if i == ' ':\n",
    "        print(end = ' ')\n",
    "        continue\n",
    "    print(chr(ord(i)+4), end = '')"
   ]
  }
 ],
 "metadata": {
  "kernelspec": {
   "display_name": "Python 3.10.6 ('ai')",
   "language": "python",
   "name": "python3"
  },
  "language_info": {
   "codemirror_mode": {
    "name": "ipython",
    "version": 3
   },
   "file_extension": ".py",
   "mimetype": "text/x-python",
   "name": "python",
   "nbconvert_exporter": "python",
   "pygments_lexer": "ipython3",
   "version": "3.10.6"
  },
  "orig_nbformat": 4,
  "vscode": {
   "interpreter": {
    "hash": "eed2dc40640608177fd0c099f19606ab30f38ce23d0e4811f54f716742c7393f"
   }
  }
 },
 "nbformat": 4,
 "nbformat_minor": 2
}
