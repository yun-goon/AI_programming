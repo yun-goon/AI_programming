{
  "nbformat": 4,
  "nbformat_minor": 0,
  "metadata": {
    "colab": {
      "provenance": []
    },
    "kernelspec": {
      "name": "python3",
      "display_name": "Python 3"
    },
    "language_info": {
      "name": "python"
    },
    "accelerator": "GPU",
    "gpuClass": "standard"
  },
  "cells": [
    {
      "cell_type": "markdown",
      "source": [
        "https://github.com/lsjsj92/keras_basic/blob/master/7.%20predict_multi_img_with_CNN.ipynb\n",
        "\n",
        "https://lsjsj92.tistory.com/355\n"
      ],
      "metadata": {
        "id": "AoiAI5sDd_AJ"
      }
    },
    {
      "cell_type": "markdown",
      "source": [
        "1. 라벨링 # 함\n",
        "2. 파일 열기 #함\n",
        "3. 픽셀값으로 변경 # 함\n",
        "4. train, validation 비율 자유 #\n",
        "5. 컨벌루젼 최대 4개, dense 최대 2개 # 이거 모르겠음\n",
        "6. max pooling, dropout 필수 # 함\n",
        "7. 손실함수 : categorical_crossentropy # 함\n",
        "8. early_stopping # 함\n",
        "9. test 데이터 사용해서 예측값과 실제값 비교 시각화 # 해야함\n",
        "sklearn - confusion_matrix\n",
        "seaborn -  heatmap\n",
        "\n",
        "\n",
        "옵션\n",
        "\n",
        "성능 향상을 위해, data augmentation 기법 적용 가능\n",
        "예: rotation [1], jigsaw puzzle [2], colorization [3], and inpainting [4]\n",
        "\n",
        "\n",
        "\n"
      ],
      "metadata": {
        "id": "y8WNdgY0QYiw"
      }
    },
    {
      "cell_type": "code",
      "source": [
        "from tensorflow.keras.datasets import mnist\n",
        "from tensorflow.keras.utils import to_categorical\n",
        "from tensorflow.keras.models import Sequential\n",
        "from tensorflow.keras.layers import Dense, Dropout, Flatten, Conv2D, MaxPooling2D\n",
        "from tensorflow.keras.preprocessing.image import ImageDataGenerator\n",
        "from tensorflow.keras.callbacks import ModelCheckpoint, EarlyStopping\n",
        "import matplotlib.pyplot as plt\n",
        "import numpy as np\n",
        "import sys\n",
        "\n",
        "import pandas as pd\n",
        "import seaborn as sns\n",
        "import matplotlib.pyplot as plt\n",
        "\n",
        "from keras.models import load_model\n",
        "\n",
        "from PIL import Image\n",
        "import os, glob, numpy as np\n",
        "from sklearn.model_selection import train_test_split\n",
        "from sklearn.metrics import confusion_matrix\n",
        "from sklearn.metrics import precision_score, recall_score, f1_score\n",
        "\n",
        "\n",
        "from google.colab import drive\n",
        "\n"
      ],
      "metadata": {
        "id": "B8Sp4_BK7hGm"
      },
      "execution_count": 173,
      "outputs": []
    },
    {
      "cell_type": "markdown",
      "source": [
        "라벨링, 파일 불러오기기, 픽셀값 변경경"
      ],
      "metadata": {
        "id": "AObA4kKFQSSR"
      }
    },
    {
      "cell_type": "code",
      "source": [
        "drive.mount('/content/drive')\n",
        "caltech_dir = './drive/MyDrive/Colab Notebooks/data/train'\n",
        "\n",
        "categories = [\"adidas\", \"converse\", \"nike\"]\n",
        "\n",
        "#caltech_dir = \"./multi_img_data/imgs_others/train\"\n",
        "\n",
        "nb_classes = len(categories)\n",
        "\n",
        "image_w = 240\n",
        "image_h = 240\n",
        "\n",
        "pixels = image_h * image_w * 3\n",
        "\n",
        "X = []\n",
        "y = []\n",
        "\n",
        "for idx, cat in enumerate(categories):\n",
        "    \n",
        "    #one-hot 돌리기.\n",
        "    label = [0 for i in range(nb_classes)]\n",
        "    label[idx] = 1\n",
        "\n",
        "    image_dir = caltech_dir + \"/\" + cat\n",
        "    files = glob.glob(image_dir+\"/*.jpg\")\n",
        "    print(cat, \" 파일 길이 : \", len(files))\n",
        "\n",
        "\n",
        "\n",
        "\n",
        "    for i, f in enumerate(files):\n",
        "        img = Image.open(f)\n",
        "        img = img.convert(\"RGB\")\n",
        "        img = img.resize((image_w, image_h))\n",
        "        data = np.asarray(img)\n",
        "\n",
        "        X.append(data)\n",
        "        y.append(label)\n",
        "\n",
        "        if i % 700 == 0:\n",
        "            print(cat, \" : \", f)\n",
        "\n",
        "X = np.array(X) #데이터 쌓기\n",
        "y = np.array(y) # 라벨링 쌓기\n",
        "\n",
        "\n",
        "X_train, X_test, y_train, y_test = train_test_split(X, y, test_size = 0.2, shuffle = True)\n",
        "print(\"ok\", len(y))\n",
        "\n",
        "##########################################\n",
        "\n",
        "drive.mount('/content/drive')\n",
        "caltech_dir = './drive/MyDrive/Colab Notebooks/data/test'\n",
        "\n",
        "categories = [\"adidas\", \"converse\", \"nike\"]\n",
        "\n",
        "#caltech_dir = \"./multi_img_data/imgs_others/train\"\n",
        "\n",
        "nb_classes = len(categories)\n",
        "\n",
        "image_w = 240\n",
        "image_h = 240\n",
        "\n",
        "pixels = image_h * image_w * 3\n",
        "\n",
        "X1 = []\n",
        "y1 = []\n",
        "\n",
        "for idx, cat in enumerate(categories):\n",
        "    \n",
        "    #one-hot 돌리기.\n",
        "    label = [0 for i in range(nb_classes)]\n",
        "    label[idx] = 1\n",
        "\n",
        "    image_dir = caltech_dir + \"/\" + cat\n",
        "    files = glob.glob(image_dir+\"/*.jpg\")\n",
        "    print(cat, \" 파일 길이 : \", len(files))\n",
        "\n",
        "\n",
        "\n",
        "\n",
        "    for i, f in enumerate(files):\n",
        "        img = Image.open(f)\n",
        "        img = img.convert(\"RGB\")\n",
        "        img = img.resize((image_w, image_h))\n",
        "        data = np.asarray(img)\n",
        "\n",
        "        X1.append(data)\n",
        "        y1.append(label)\n",
        "\n",
        "        if i % 700 == 0:\n",
        "            print(cat, \" : \", f)\n",
        "\n",
        "\n",
        "X_test2 = np.array(X1)\n",
        "y_test2 = np.array(y1)\n",
        "\n",
        "\n",
        "# xy = (X_train, X_test, y_train, y_test)\n",
        "# np.save(\"./drive/MyDrive/Colab Notebooks/data/multi_image_data.npy\", xy)\n",
        "\n",
        "print(\"ok\", len(y_test2))\n",
        "\n",
        "# X_train, X_test, y_train, y_test = np.load('./drive/MyDrive/Colab Notebooks/data/multi_image_data.npy')\n",
        "#print(X_train)\n",
        "#print(X_train.shape[0])\n",
        "\n",
        "\n",
        "# plt.imshow(files[1])\n",
        "\n"
      ],
      "metadata": {
        "id": "bjWLfLaC7hAw",
        "colab": {
          "base_uri": "https://localhost:8080/"
        },
        "outputId": "a282cbbf-a452-4f7e-9c0d-46cbc14eee5d"
      },
      "execution_count": 174,
      "outputs": [
        {
          "output_type": "stream",
          "name": "stdout",
          "text": [
            "Drive already mounted at /content/drive; to attempt to forcibly remount, call drive.mount(\"/content/drive\", force_remount=True).\n",
            "adidas  파일 길이 :  237\n",
            "adidas  :  ./drive/MyDrive/Colab Notebooks/data/train/adidas/168.jpg\n",
            "converse  파일 길이 :  237\n",
            "converse  :  ./drive/MyDrive/Colab Notebooks/data/train/converse/189.jpg\n",
            "nike  파일 길이 :  237\n",
            "nike  :  ./drive/MyDrive/Colab Notebooks/data/train/nike/129.jpg\n",
            "ok 711\n",
            "Drive already mounted at /content/drive; to attempt to forcibly remount, call drive.mount(\"/content/drive\", force_remount=True).\n",
            "adidas  파일 길이 :  38\n",
            "adidas  :  ./drive/MyDrive/Colab Notebooks/data/test/adidas/18.jpg\n",
            "converse  파일 길이 :  38\n",
            "converse  :  ./drive/MyDrive/Colab Notebooks/data/test/converse/32.jpg\n",
            "nike  파일 길이 :  38\n",
            "nike  :  ./drive/MyDrive/Colab Notebooks/data/test/nike/4.jpg\n",
            "ok 114\n"
          ]
        }
      ]
    },
    {
      "cell_type": "code",
      "source": [
        "# print(X_test2)"
      ],
      "metadata": {
        "id": "mlHm-TInzEN9"
      },
      "execution_count": 175,
      "outputs": []
    },
    {
      "cell_type": "code",
      "source": [
        "categories = [\"adidas\", \"converse\", \"nike\"]\n",
        "nb_classes = len(categories)\n",
        "\n",
        "#일반화\n",
        "X_train = X_train.astype(float) / 255\n",
        "X_test = X_test.astype(float) / 255\n",
        "\n",
        "X_test2 = X_test2.astype(float) / 255\n"
      ],
      "metadata": {
        "id": "fkSn9NsTA1SM"
      },
      "execution_count": 176,
      "outputs": []
    },
    {
      "cell_type": "code",
      "source": [
        "# print(X_test2)"
      ],
      "metadata": {
        "id": "sIWZp6Thy5oX"
      },
      "execution_count": 177,
      "outputs": []
    },
    {
      "cell_type": "code",
      "source": [
        "\n",
        "model = Sequential()\n",
        "model.add(Conv2D(16, (3,3), padding=\"same\", input_shape=X_train.shape[1:], activation='relu')) # 커널의 개수 32개, 커널의 크기 3*3, 입력의 크기 : 행, 열, 흑백 \n",
        "model.add(MaxPooling2D(pool_size=(2,2)))\n",
        "model.add(Dropout(0.25))\n",
        "    \n",
        "model.add(Conv2D(32, (3,3), padding=\"same\", activation='relu'))\n",
        "model.add(MaxPooling2D(pool_size=(2,2)))\n",
        "model.add(Dropout(0.25))\n",
        "\n",
        "model.add(Conv2D(32, (3,3), padding=\"same\", activation='relu'))\n",
        "model.add(MaxPooling2D(pool_size=(2,2)))\n",
        "model.add(Dropout(0.25))\n",
        "    \n",
        "model.add(Flatten()) # 1차원 백터로 변경경\n",
        "model.add(Dense(512, activation='relu')) # dense 1\n",
        "model.add(Dropout(0.5))\n",
        "model.add(Dense(nb_classes, activation='softmax')) # dense 2\n",
        "\n",
        "model.compile(loss='categorical_crossentropy', optimizer='adam', metrics=['accuracy']) # 손실함수 : categorical_crossentropy, 옵티마이저 : 아담, 메트릭스 \n",
        "\n",
        "model_dir = './drive/MyDrive/Colab Notebooks/data'\n",
        "\n",
        "model_path = model_dir + '/multi_img_classification.model'\n",
        "checkpoint = ModelCheckpoint(filepath=model_path , monitor='val_loss', verbose=0, save_best_only=True)\n",
        "\n",
        "\n",
        "\n",
        "\n",
        "early_stopping = EarlyStopping(monitor='val_loss', patience=10) # 얼리 스타핑핑\n",
        "\n",
        "model.summary() #썸머리 \n",
        "\n",
        "history = model.fit(X_train, y_train, batch_size=10, epochs=50, validation_split= 0.25, callbacks=[checkpoint, early_stopping])\n",
        "\n",
        "# validation_data=(X_test, y_test)\n",
        "\n",
        "\n"
      ],
      "metadata": {
        "id": "CVdlrSVSA7ns",
        "colab": {
          "base_uri": "https://localhost:8080/"
        },
        "outputId": "66d6db83-c4d8-4fbf-f176-60f877ae1d2d"
      },
      "execution_count": 178,
      "outputs": [
        {
          "output_type": "stream",
          "name": "stdout",
          "text": [
            "Model: \"sequential_20\"\n",
            "_________________________________________________________________\n",
            " Layer (type)                Output Shape              Param #   \n",
            "=================================================================\n",
            " conv2d_60 (Conv2D)          (None, 240, 240, 16)      448       \n",
            "                                                                 \n",
            " max_pooling2d_60 (MaxPoolin  (None, 120, 120, 16)     0         \n",
            " g2D)                                                            \n",
            "                                                                 \n",
            " dropout_80 (Dropout)        (None, 120, 120, 16)      0         \n",
            "                                                                 \n",
            " conv2d_61 (Conv2D)          (None, 120, 120, 32)      4640      \n",
            "                                                                 \n",
            " max_pooling2d_61 (MaxPoolin  (None, 60, 60, 32)       0         \n",
            " g2D)                                                            \n",
            "                                                                 \n",
            " dropout_81 (Dropout)        (None, 60, 60, 32)        0         \n",
            "                                                                 \n",
            " conv2d_62 (Conv2D)          (None, 60, 60, 32)        9248      \n",
            "                                                                 \n",
            " max_pooling2d_62 (MaxPoolin  (None, 30, 30, 32)       0         \n",
            " g2D)                                                            \n",
            "                                                                 \n",
            " dropout_82 (Dropout)        (None, 30, 30, 32)        0         \n",
            "                                                                 \n",
            " flatten_20 (Flatten)        (None, 28800)             0         \n",
            "                                                                 \n",
            " dense_40 (Dense)            (None, 512)               14746112  \n",
            "                                                                 \n",
            " dropout_83 (Dropout)        (None, 512)               0         \n",
            "                                                                 \n",
            " dense_41 (Dense)            (None, 3)                 1539      \n",
            "                                                                 \n",
            "=================================================================\n",
            "Total params: 14,761,987\n",
            "Trainable params: 14,761,987\n",
            "Non-trainable params: 0\n",
            "_________________________________________________________________\n",
            "Epoch 1/50\n",
            "40/43 [==========================>...] - ETA: 0s - loss: 2.1971 - accuracy: 0.3000"
          ]
        },
        {
          "output_type": "stream",
          "name": "stderr",
          "text": [
            "WARNING:absl:Found untraced functions such as _jit_compiled_convolution_op, _jit_compiled_convolution_op, _jit_compiled_convolution_op while saving (showing 3 of 3). These functions will not be directly callable after loading.\n"
          ]
        },
        {
          "output_type": "stream",
          "name": "stdout",
          "text": [
            "\b\b\b\b\b\b\b\b\b\b\b\b\b\b\b\b\b\b\b\b\b\b\b\b\b\b\b\b\b\b\b\b\b\b\b\b\b\b\b\b\b\b\b\b\b\b\b\b\b\b\b\b\b\b\b\b\b\b\b\b\b\b\b\b\b\b\b\b\b\b\b\b\b\b\b\b\b\b\b\b\b\b\r43/43 [==============================] - 4s 72ms/step - loss: 2.1300 - accuracy: 0.3028 - val_loss: 1.0998 - val_accuracy: 0.2676\n",
            "Epoch 2/50\n",
            "42/43 [============================>.] - ETA: 0s - loss: 1.0986 - accuracy: 0.3429"
          ]
        },
        {
          "output_type": "stream",
          "name": "stderr",
          "text": [
            "WARNING:absl:Found untraced functions such as _jit_compiled_convolution_op, _jit_compiled_convolution_op, _jit_compiled_convolution_op while saving (showing 3 of 3). These functions will not be directly callable after loading.\n"
          ]
        },
        {
          "output_type": "stream",
          "name": "stdout",
          "text": [
            "\b\b\b\b\b\b\b\b\b\b\b\b\b\b\b\b\b\b\b\b\b\b\b\b\b\b\b\b\b\b\b\b\b\b\b\b\b\b\b\b\b\b\b\b\b\b\b\b\b\b\b\b\b\b\b\b\b\b\b\b\b\b\b\b\b\b\b\b\b\b\b\b\b\b\b\b\b\b\b\b\b\b\r43/43 [==============================] - 3s 73ms/step - loss: 1.0984 - accuracy: 0.3451 - val_loss: 1.0996 - val_accuracy: 0.3873\n",
            "Epoch 3/50\n",
            "42/43 [============================>.] - ETA: 0s - loss: 1.0963 - accuracy: 0.3381"
          ]
        },
        {
          "output_type": "stream",
          "name": "stderr",
          "text": [
            "WARNING:absl:Found untraced functions such as _jit_compiled_convolution_op, _jit_compiled_convolution_op, _jit_compiled_convolution_op while saving (showing 3 of 3). These functions will not be directly callable after loading.\n"
          ]
        },
        {
          "output_type": "stream",
          "name": "stdout",
          "text": [
            "\b\b\b\b\b\b\b\b\b\b\b\b\b\b\b\b\b\b\b\b\b\b\b\b\b\b\b\b\b\b\b\b\b\b\b\b\b\b\b\b\b\b\b\b\b\b\b\b\b\b\b\b\b\b\b\b\b\b\b\b\b\b\b\b\b\b\b\b\b\b\b\b\b\b\b\b\b\b\b\b\b\b\r43/43 [==============================] - 3s 61ms/step - loss: 1.0963 - accuracy: 0.3380 - val_loss: 1.0989 - val_accuracy: 0.3451\n",
            "Epoch 4/50\n",
            "41/43 [===========================>..] - ETA: 0s - loss: 1.0844 - accuracy: 0.4049"
          ]
        },
        {
          "output_type": "stream",
          "name": "stderr",
          "text": [
            "WARNING:absl:Found untraced functions such as _jit_compiled_convolution_op, _jit_compiled_convolution_op, _jit_compiled_convolution_op while saving (showing 3 of 3). These functions will not be directly callable after loading.\n"
          ]
        },
        {
          "output_type": "stream",
          "name": "stdout",
          "text": [
            "\b\b\b\b\b\b\b\b\b\b\b\b\b\b\b\b\b\b\b\b\b\b\b\b\b\b\b\b\b\b\b\b\b\b\b\b\b\b\b\b\b\b\b\b\b\b\b\b\b\b\b\b\b\b\b\b\b\b\b\b\b\b\b\b\b\b\b\b\b\b\b\b\b\b\b\b\b\b\b\b\b\b\r43/43 [==============================] - 3s 67ms/step - loss: 1.0834 - accuracy: 0.4108 - val_loss: 1.0976 - val_accuracy: 0.3521\n",
            "Epoch 5/50\n",
            "42/43 [============================>.] - ETA: 0s - loss: 1.0458 - accuracy: 0.4452"
          ]
        },
        {
          "output_type": "stream",
          "name": "stderr",
          "text": [
            "WARNING:absl:Found untraced functions such as _jit_compiled_convolution_op, _jit_compiled_convolution_op, _jit_compiled_convolution_op while saving (showing 3 of 3). These functions will not be directly callable after loading.\n"
          ]
        },
        {
          "output_type": "stream",
          "name": "stdout",
          "text": [
            "\b\b\b\b\b\b\b\b\b\b\b\b\b\b\b\b\b\b\b\b\b\b\b\b\b\b\b\b\b\b\b\b\b\b\b\b\b\b\b\b\b\b\b\b\b\b\b\b\b\b\b\b\b\b\b\b\b\b\b\b\b\b\b\b\b\b\b\b\b\b\b\b\b\b\b\b\b\b\b\b\b\b\r43/43 [==============================] - 3s 67ms/step - loss: 1.0460 - accuracy: 0.4437 - val_loss: 1.0821 - val_accuracy: 0.4437\n",
            "Epoch 6/50\n",
            "42/43 [============================>.] - ETA: 0s - loss: 0.9543 - accuracy: 0.5286"
          ]
        },
        {
          "output_type": "stream",
          "name": "stderr",
          "text": [
            "WARNING:absl:Found untraced functions such as _jit_compiled_convolution_op, _jit_compiled_convolution_op, _jit_compiled_convolution_op while saving (showing 3 of 3). These functions will not be directly callable after loading.\n"
          ]
        },
        {
          "output_type": "stream",
          "name": "stdout",
          "text": [
            "\b\b\b\b\b\b\b\b\b\b\b\b\b\b\b\b\b\b\b\b\b\b\b\b\b\b\b\b\b\b\b\b\b\b\b\b\b\b\b\b\b\b\b\b\b\b\b\b\b\b\b\b\b\b\b\b\b\b\b\b\b\b\b\b\b\b\b\b\b\b\b\b\b\b\b\b\b\b\b\b\b\b\r43/43 [==============================] - 3s 60ms/step - loss: 0.9525 - accuracy: 0.5305 - val_loss: 1.0725 - val_accuracy: 0.4577\n",
            "Epoch 7/50\n",
            "43/43 [==============================] - 1s 21ms/step - loss: 0.8378 - accuracy: 0.6244 - val_loss: 1.1019 - val_accuracy: 0.4648\n",
            "Epoch 8/50\n",
            "43/43 [==============================] - 1s 20ms/step - loss: 0.7090 - accuracy: 0.6901 - val_loss: 1.3458 - val_accuracy: 0.3803\n",
            "Epoch 9/50\n",
            "43/43 [==============================] - 1s 19ms/step - loss: 0.6059 - accuracy: 0.7113 - val_loss: 1.2739 - val_accuracy: 0.4225\n",
            "Epoch 10/50\n",
            "43/43 [==============================] - 1s 20ms/step - loss: 0.5254 - accuracy: 0.7559 - val_loss: 1.3529 - val_accuracy: 0.4155\n",
            "Epoch 11/50\n",
            "43/43 [==============================] - 1s 20ms/step - loss: 0.4644 - accuracy: 0.7864 - val_loss: 1.4522 - val_accuracy: 0.4718\n",
            "Epoch 12/50\n",
            "43/43 [==============================] - 1s 20ms/step - loss: 0.3997 - accuracy: 0.8146 - val_loss: 1.5742 - val_accuracy: 0.4718\n",
            "Epoch 13/50\n",
            "43/43 [==============================] - 1s 20ms/step - loss: 0.3332 - accuracy: 0.8427 - val_loss: 1.8288 - val_accuracy: 0.4366\n",
            "Epoch 14/50\n",
            "43/43 [==============================] - 1s 20ms/step - loss: 0.2921 - accuracy: 0.8662 - val_loss: 2.1342 - val_accuracy: 0.4789\n",
            "Epoch 15/50\n",
            "43/43 [==============================] - 1s 20ms/step - loss: 0.3090 - accuracy: 0.8451 - val_loss: 2.0913 - val_accuracy: 0.4859\n",
            "Epoch 16/50\n",
            "43/43 [==============================] - 1s 21ms/step - loss: 0.2581 - accuracy: 0.8709 - val_loss: 2.1733 - val_accuracy: 0.4930\n"
          ]
        }
      ]
    },
    {
      "cell_type": "code",
      "source": [
        "# score = model.evaluate(X_test2,y_test2)\n",
        "# print(score)\n",
        "\n",
        "# print(\"정확도 : %.4f\" % (model.evaluate(X_test, y_test)[1]))"
      ],
      "metadata": {
        "id": "J6h_N9h9x5lh"
      },
      "execution_count": 179,
      "outputs": []
    },
    {
      "cell_type": "code",
      "source": [
        "\n",
        "real_prices = []\n",
        "pred_prices = []\n",
        "X_num = []\n",
        "n_iter=0\n",
        "\n",
        "filenames = []\n",
        "\n",
        "Y_prediction = model.predict(X_test2)\n",
        "\n",
        "# print(Y_prediction) \n",
        "\n",
        "\n",
        "for i in range(len(X_test2)):\n",
        "  real = y_test[i]\n",
        "  prediction = Y_prediction[i]\n",
        "  # print('Real price : {}, Expected price : {}'.format(real,prediction))\n",
        "  real_prices.append(real)\n",
        "  pred_prices.append(prediction)\n",
        "  n_iter = n_iter +1\n",
        "  X_num.append(n_iter)\n",
        "\n",
        "# print(type(real_prices))\n",
        "# print(type(pred_prices))\n",
        "\n",
        "# print(real_prices)\n",
        "# print(pred_prices)\n",
        "\n",
        "\n",
        "# confusion_matrix(real_prices, pred_prices)\n",
        "\n"
      ],
      "metadata": {
        "id": "U150l6khkjO8",
        "colab": {
          "base_uri": "https://localhost:8080/"
        },
        "outputId": "bbc8ae81-942b-45f1-b8d9-43f45e8e42b6"
      },
      "execution_count": 180,
      "outputs": [
        {
          "output_type": "stream",
          "name": "stdout",
          "text": [
            "4/4 [==============================] - 0s 19ms/step\n"
          ]
        }
      ]
    },
    {
      "cell_type": "code",
      "source": [
        "# print(pred_prices)"
      ],
      "metadata": {
        "id": "zSEQ6YpNyh70"
      },
      "execution_count": 181,
      "outputs": []
    },
    {
      "cell_type": "code",
      "source": [
        "pred = []\n",
        "\n",
        "for i in pred_prices:\n",
        "  if(i.argmax()== 0):\n",
        "    pred.append(0)\n",
        "  elif(i.argmax()== 1):\n",
        "    pred.append(1)\n",
        "  elif(i.argmax()== 2):\n",
        "    pred.append(2)\n",
        "\n",
        "Y_test = []\n",
        "\n",
        "for i in y_test2:\n",
        "  if(i.argmax()== 0):\n",
        "    Y_test.append(0)\n",
        "  elif(i.argmax()== 1):\n",
        "    Y_test.append(1)\n",
        "  elif(i.argmax()== 2):\n",
        "    Y_test.append(2)\n",
        "\n"
      ],
      "metadata": {
        "id": "zdTOCaaO1oqW"
      },
      "execution_count": 182,
      "outputs": []
    },
    {
      "cell_type": "code",
      "source": [
        "test = confusion_matrix(Y_test, pred)"
      ],
      "metadata": {
        "id": "Hy6868BL02cA"
      },
      "execution_count": 183,
      "outputs": []
    },
    {
      "cell_type": "code",
      "source": [
        "plt.figure(figsize = (3, 3))\n",
        "plt.ylabel('True')\n",
        "plt.xlabel('Predict')\n",
        "sns.heatmap(test, linewidth = 30, vmax = 30, cmap = 'Reds', annot = True)\n",
        "\n",
        "\n",
        "plt.show()\n"
      ],
      "metadata": {
        "id": "8paOJRW8dee-",
        "colab": {
          "base_uri": "https://localhost:8080/",
          "height": 215
        },
        "outputId": "007ee87c-e9d9-4996-aaf2-c606ec82258a"
      },
      "execution_count": 189,
      "outputs": [
        {
          "output_type": "display_data",
          "data": {
            "text/plain": [
              "<Figure size 216x216 with 2 Axes>"
            ],
            "image/png": "[encoded data removed]"
          },
          "metadata": {
            "needs_background": "light"
          }
        }
      ]
    }
  ]
}