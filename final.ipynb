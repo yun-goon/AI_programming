{
 "cells": [
  {
   "cell_type": "code",
   "execution_count": null,
   "metadata": {
    "collapsed": true,
    "pycharm": {
     "name": "#%%\n"
    }
   },
   "outputs": [],
   "source": [
    "import csv\n",
    "f = open('.\\data\\weather.csv')\n",
    "data = csv.reader(f)\n",
    "header = next(data)\n",
    "print(header) # 헤더만 읽기\n",
    "\n",
    "\n",
    "for row in data:\n",
    "    print(row)\n",
    "# 헤더 빼고 읽기\n",
    "f.close()\n"
   ]
  },
  {
   "cell_type": "code",
   "execution_count": null,
   "outputs": [],
   "source": [
    "import csv\n",
    "f = open('.\\data\\weather.csv')\n",
    "data = csv.reader(f)\n",
    "header = next(data)\n",
    "for row in data:\n",
    "    print(row[3], end = ', ')\n",
    "\n",
    "\n",
    "# 3번째 열만 추출\n",
    "\n",
    "f.close()\n"
   ],
   "metadata": {
    "collapsed": false,
    "pycharm": {
     "name": "#%%\n"
    }
   }
  },
  {
   "cell_type": "code",
   "execution_count": null,
   "outputs": [],
   "source": [
    "import pandas as pd\n",
    "df1 = pd.read_csv('.\\data\\countries.csv')\n",
    "df2 = pd.read_csv('.\\data\\countries.csv', index_col = 0)\n",
    "print(df1['population'])\n",
    "print(df2['population'])\n",
    "# 첫번째 열을 인덱스로 사용\n",
    "\n",
    "print(df1['population'][0])\n",
    "print(df2['population']['KR'])\n",
    "#똑같은거 선택됨"
   ],
   "metadata": {
    "collapsed": false,
    "pycharm": {
     "name": "#%%\n"
    }
   }
  },
  {
   "cell_type": "markdown",
   "source": [
    "특정 행 선택  (열은 위에 print(df['country']))"
   ],
   "metadata": {
    "collapsed": false,
    "pycharm": {
     "name": "#%% md\n"
    }
   }
  },
  {
   "cell_type": "code",
   "execution_count": null,
   "outputs": [],
   "source": [
    "print(df[0:2])\n",
    "\n",
    "print(df.loc['KR']) # 인덱스 기준\n",
    "\n",
    "print(df.iloc[0]) # 행번호 기준\n",
    "# .iloc[행번호, 열번호]\n",
    "\n",
    "\n",
    "# 슬라이싱\n"
   ],
   "metadata": {
    "collapsed": false,
    "pycharm": {
     "name": "#%%\n"
    }
   }
  },
  {
   "cell_type": "markdown",
   "source": [],
   "metadata": {
    "collapsed": false,
    "pycharm": {
     "name": "#%% md\n"
    }
   }
  },
  {
   "cell_type": "code",
   "execution_count": null,
   "outputs": [],
   "source": [
    "import numpy as np\n",
    "A = np.array([1, 2, 3])\n",
    "print('\\nShape of vector A:', A.shape)\n",
    "print(A)\n",
    "B = A[:, np.newaxis]\n",
    "print('\\nShape of column matrix B:', B.shape)\n",
    "print(B)\n",
    "C = A[np.newaxis, :] #C = np.array([A])\n",
    "print('\\nShape of row maxtrix C:', C.shape)\n",
    "print(C)\n",
    "\n",
    "#넘파이 차원 변환"
   ],
   "metadata": {
    "collapsed": false,
    "pycharm": {
     "name": "#%%\n"
    }
   }
  },
  {
   "cell_type": "code",
   "execution_count": null,
   "outputs": [],
   "source": [
    "import pandas as pd\n",
    "\n",
    "life = pd.read_csv('./data/life_expectancy.csv')\n",
    "life = life[['Life expectancy', 'Year', 'Alcohol', 'Percentage expenditure', 'Total expenditure', 'Hepatitis B', 'Measles', 'Polio', 'BMI', 'GDP', 'Thinness 1-19 years', 'Thinness 5-9 years']]\n",
    "#print(life)\n",
    "print(life.isna().sum())\n",
    "\n",
    "#결손값 확인 isna"
   ],
   "metadata": {
    "collapsed": false,
    "pycharm": {
     "name": "#%%\n"
    }
   }
  },
  {
   "cell_type": "code",
   "execution_count": null,
   "outputs": [],
   "source": [
    "import pandas as pd\n",
    "life = pd.read_csv('./data/life_expectancy.csv')\n",
    "life = life[['Life expectancy', 'Year', 'Alcohol', 'Percentage expenditure', 'Total expenditure', 'Hepatitis B', 'Measles', 'Polio', 'BMI', 'GDP', 'Thinness 1-19 years', 'Thinness 5-9 years']]\n",
    "\n",
    "life.dropna(inplace = True)\n",
    "print(life.shape)\n",
    "# 결손값 삭제"
   ],
   "metadata": {
    "collapsed": false,
    "pycharm": {
     "name": "#%%\n"
    }
   }
  },
  {
   "cell_type": "code",
   "execution_count": null,
   "outputs": [],
   "source": [
    "import pandas as pd\n",
    "import seaborn as sns\n",
    "import matplotlib.pyplot as plt\n",
    "life = pd.read_csv('./data/life_expectancy.csv')\n",
    "life = life[['Life expectancy', 'Year', 'Alcohol', 'Percentage expenditure', 'Total expenditure', 'Hepatitis B', 'Measles', 'Polio', 'BMI', 'GDP', 'Thinness 1-19 years', 'Thinness 5-9 years']]\n",
    "life.dropna(inplace = True)\n",
    "#print(life.shape)\n",
    "\n",
    "sns.set(rc={'figure.figsize':(12, 10)}) #맵 설정\n",
    "corr_mat = life.corr().round(2) # corr각 열간의 상관관계 반환, round : 반올림 - 소수2번째 자리까지\n",
    "sns.heatmap(data = corr_mat, annot = True)\n",
    "plt.show()\n",
    "\n",
    "#히트맵 코드,\n"
   ],
   "metadata": {
    "collapsed": false,
    "pycharm": {
     "name": "#%%\n"
    }
   }
  },
  {
   "cell_type": "code",
   "execution_count": null,
   "outputs": [],
   "source": [
    "model = Sequential() # feedforward network 생성 매서드\n",
    "model.add(Dense(1, input_dim = 1, activation = 'linear'))\n",
    "# Dense()는 fully-connected network을 만드는 메서드\n",
    "# 사용할 입력 변수는 공부한 시간 하나임. Input_dim = 1\n",
    "# 활성화 함수 : linear\n",
    "\n",
    "model.compile(optimizer = 'sgd', loss = 'mse')\n",
    "# 옵티마이저 : 경사하강법\n",
    "# 손실함수 :mse\n",
    "model.fit(x, y, epochs = 2000)\n",
    "\n"
   ],
   "metadata": {
    "collapsed": false,
    "pycharm": {
     "name": "#%%\n"
    }
   }
  },
  {
   "cell_type": "code",
   "execution_count": null,
   "outputs": [],
   "source": [
    "model = Sequential()\n",
    "model.add(Dense(30, input_dim = 16, activation = 'relu'))\n",
    "# 노드 30개, 입력 16개, 활성화 함수 : 랠루\n",
    "\n",
    "model.add(Dense(1, activation = 'sigmoid'))\n",
    "\n",
    "history = model.fit(X, y, epochs = 5, batch_size = 16)\n",
    "# 에포치 : 5반복 batch_size : 모든 행을 16묶음으로\n"
   ],
   "metadata": {
    "collapsed": false,
    "pycharm": {
     "name": "#%%\n"
    }
   }
  },
  {
   "cell_type": "code",
   "execution_count": null,
   "outputs": [],
   "source": [
    "from google.colab import drive\n",
    "drive.mount('/content/drive')\n",
    "df = pd.read_csv('./drive/MyDrive/Colab Notebooks/data/pima-indians-diabetes3.csv')\n",
    "df['diabetes'].value_counts()\n",
    "# diabetes 내용물 확인, 0 몇개 , 1: 몇개\n",
    "df.describe()\n",
    "#  각 항목 통계량\n",
    "df.corr()\n",
    "# 상관관계 파악"
   ],
   "metadata": {
    "collapsed": false,
    "pycharm": {
     "name": "#%%\n"
    }
   }
  },
  {
   "cell_type": "code",
   "execution_count": null,
   "outputs": [],
   "source": [
    "model.compile(loss = 'binary_crossentropy', optimizer = 'adam', metrics = ['accuracy'])\n",
    "# binary_crossentropy 이진 분류,\n",
    "model.fit(X, y, epochs = 100, batch_size = 10)\n"
   ],
   "metadata": {
    "collapsed": false,
    "pycharm": {
     "name": "#%%\n"
    }
   }
  },
  {
   "cell_type": "markdown",
   "source": [
    "원 핫 인코딩"
   ],
   "metadata": {
    "collapsed": false,
    "pycharm": {
     "name": "#%% md\n"
    }
   }
  },
  {
   "cell_type": "code",
   "execution_count": null,
   "outputs": [],
   "source": [
    "import pandas as pd\n",
    "from google.colab import drive\n",
    "drive.mount('/content/drive')\n",
    "df = pd.read_csv('./drive/MyDrive/Colab Notebooks/data/iris3.csv')\n",
    "X = df.iloc[:, 0:4]\n",
    "y = df.iloc[:, 4]\n",
    "y = pd.get_dummies(y) # one-hot encoding for y\n",
    "print(X[0:5])\n",
    "print(y[0:5])\n"
   ],
   "metadata": {
    "collapsed": false,
    "pycharm": {
     "name": "#%%\n"
    }
   }
  },
  {
   "cell_type": "code",
   "execution_count": null,
   "outputs": [],
   "source": [
    "from tensorflow.keras.models import Sequential\n",
    "from tensorflow.keras.layers import Dense\n",
    "model = Sequential()\n",
    "model.add(Dense(12, input_dim = 4, activation = 'relu'))\n",
    "model.add(Dense(8, activation = 'relu'))\n",
    "model.add(Dense(3, activation = 'softmax'))\n",
    "model.summary()\n",
    "model.compile(loss = 'categorical_crossentropy', optimizer = 'adam', metrics = ['accuracy'])\n",
    "# 출력이 3개 이상이여서 categorical_crossentropy 씀\n",
    "\n",
    "model.fit(X, y, epochs = 100, batch_size = 10)\n"
   ],
   "metadata": {
    "collapsed": false,
    "pycharm": {
     "name": "#%%\n"
    }
   }
  },
  {
   "cell_type": "code",
   "execution_count": null,
   "outputs": [],
   "source": [
    "X_train, X_test, y_train, y_test = train_test_split(X, y, test_size = 0.3, shuffle = True)\n",
    "#학습셋 테스트셋 구분"
   ],
   "metadata": {
    "collapsed": false,
    "pycharm": {
     "name": "#%%\n"
    }
   }
  },
  {
   "cell_type": "code",
   "execution_count": null,
   "outputs": [],
   "source": [
    "X_train, X_test, y_train, y_test = train_test_split(X, y, test_size = 0.2, shuffle = True)\n",
    "\n",
    "''''''\n",
    "\n",
    "history = model.fit(X_train, y_train, epochs = 50, batch_size = 500, validation_split = 0.25) # 60:20:20 , 트레인 검증, 테스트"
   ],
   "metadata": {
    "collapsed": false,
    "pycharm": {
     "name": "#%%\n"
    }
   }
  },
  {
   "cell_type": "markdown",
   "source": [
    "학습 결과 시각화"
   ],
   "metadata": {
    "collapsed": false,
    "pycharm": {
     "name": "#%% md\n"
    }
   }
  },
  {
   "cell_type": "code",
   "execution_count": null,
   "outputs": [],
   "source": [
    "real_prices = []\n",
    "pred_prices = []\n",
    "X_num = []\n",
    "n_iter = 0\n",
    "Y_prediction = model.predict(X_test).flatten()\n",
    "for i in range(25):\n",
    "real = y_test[i]\n",
    "prediction = Y_prediction[i]\n",
    "print('Real price: {}, Expected price: {}'.format(real, prediction))\n",
    "real_prices.append(real)\n",
    "pred_prices.append(prediction)\n",
    "n_iter = n_iter + 1\n",
    "X_num.append(n_iter)\n",
    "plt.plot(X_num, pred_prices, label = 'Expected')\n",
    "plt.plot(X_num, real_prices, label = 'Real')\n",
    "plt.legend()\n",
    "plt.show()\n"
   ],
   "metadata": {
    "collapsed": false,
    "pycharm": {
     "name": "#%%\n"
    }
   }
  },
  {
   "cell_type": "markdown",
   "source": [
    "컨벌루젼"
   ],
   "metadata": {
    "collapsed": false,
    "pycharm": {
     "name": "#%% md\n"
    }
   }
  },
  {
   "cell_type": "code",
   "execution_count": null,
   "outputs": [],
   "source": [
    "model.add(Conv2D(32, kernel_size = (3, 3), input_shape = (28, 28, 1), activation = 'relu'))\n",
    "# keras 의 conv2D 함수, 커널의 개수 : 32개, 커널의 크기 3*3 , 입력의 크기 : 행, 열, 흑백\n",
    "\n",
    "model.add(MaxPooling2D(pool_size = (2, 2)))\n",
    "# keras 의 maxpooling2D 함수, 풀링창의 크기 : 2*2\n",
    "\n",
    "model.add(Dropout(0.25))\n",
    "# dropout 함수, 학습중에 은닉층 노드의 25%를 랜덤하게 제거한다. 노드는 Mini-batch 마다 랜덤하게 선택됨. 과적합 방지를 위한 regularization이 목적임.\n",
    "\n",
    "model.add(Flatten())\n",
    "#1차원 백터로 변경, 2차원 이상의 tensor들을 1차원 벡터로 변경하여 신경망에서 사용하고자 할 때 Flatten() 함수 호출. Serialization 이라고도 함.\n",
    "\n"
   ],
   "metadata": {
    "collapsed": false,
    "pycharm": {
     "name": "#%%\n"
    }
   }
  }
 ],
 "metadata": {
  "kernelspec": {
   "display_name": "Python 3",
   "language": "python",
   "name": "python3"
  },
  "language_info": {
   "codemirror_mode": {
    "name": "ipython",
    "version": 2
   },
   "file_extension": ".py",
   "mimetype": "text/x-python",
   "name": "python",
   "nbconvert_exporter": "python",
   "pygments_lexer": "ipython2",
   "version": "2.7.6"
  }
 },
 "nbformat": 4,
 "nbformat_minor": 0
}