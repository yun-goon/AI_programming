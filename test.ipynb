{
 "cells": [
  {
   "cell_type": "code",
   "execution_count": 3,
   "metadata": {},
   "outputs": [],
   "source": [
    "import numpy as np\n",
    "n1 = np.arange(4)\n",
    "n2 = np.arange(4,8)\n",
    "n3 = [0,1,2,3]\n",
    "n4 = [4,5,6,7]\n",
    "\n",
    "s1 = n1+n2 #숫자들의 합\n",
    "s2 = n3+n4 #리스트 합쳐짐\n",
    "\n",
    "t1 = n1 + 1\n",
    "t2 = n3 +1"
   ]
  }
 ],
 "metadata": {
  "kernelspec": {
   "display_name": "Python 3.10.6 ('ai')",
   "language": "python",
   "name": "python3"
  },
  "language_info": {
   "codemirror_mode": {
    "name": "ipython",
    "version": 3
   },
   "file_extension": ".py",
   "mimetype": "text/x-python",
   "name": "python",
   "nbconvert_exporter": "python",
   "pygments_lexer": "ipython3",
   "version": "3.10.6"
  },
  "orig_nbformat": 4,
  "vscode": {
   "interpreter": {
    "hash": "eed2dc40640608177fd0c099f19606ab30f38ce23d0e4811f54f716742c7393f"
   }
  }
 },
 "nbformat": 4,
 "nbformat_minor": 2
}
